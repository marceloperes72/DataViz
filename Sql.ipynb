{
 "metadata": {
  "language_info": {
   "codemirror_mode": {
    "name": "ipython",
    "version": 3
   },
   "file_extension": ".py",
   "mimetype": "text/x-python",
   "name": "python",
   "nbconvert_exporter": "python",
   "pygments_lexer": "ipython3",
   "version": "3.7.6-final"
  },
  "orig_nbformat": 2,
  "kernelspec": {
   "name": "python3",
   "display_name": "Python 3.7.6 64-bit (conda)",
   "metadata": {
    "interpreter": {
     "hash": "188248d180099edaf59f281ee286b50e70daf1a01712ca9088a602dfc2c39f06"
    }
   }
  }
 },
 "nbformat": 4,
 "nbformat_minor": 2,
 "cells": [
  {
   "cell_type": "code",
   "execution_count": 3,
   "metadata": {},
   "outputs": [],
   "source": [
    "def extraction(server,\n",
    "               database,\n",
    "               username,\n",
    "               password,\n",
    "               query,\n",
    "               path,\n",
    "               filename):\n",
    "               cnxn = pyodbc.connect('DRIVER={ODBC Driver 17 for SQL Server};SERVER='+server+\n",
    "                                                                         ';DATABASE='+database+\n",
    "                                                                         ';UID='+username+\n",
    "                                                                         ';PWD='+ password)\n",
    "               cursor = cnxn.cursor()                                                          \n",
    "               df = pd.read_sql(query, con = cnxn)\n",
    "               df.to_csv(path + filename)\n",
    "               cnxn.close()\n",
    "               #print(\"Arquivo: \" + filename + \" salvo\")"
   ]
  },
  {
   "cell_type": "code",
   "execution_count": 1,
   "metadata": {},
   "outputs": [],
   "source": [
    "import pyodbc \n",
    "import pandas as pd "
   ]
  },
  {
   "cell_type": "code",
   "execution_count": 4,
   "metadata": {},
   "outputs": [],
   "source": [
    "\n",
    "# Some other example server values are\n",
    "# server = 'localhost\\sqlexpress' # for a named instance\n",
    "# server = 'myserver,port' # to specify an alternate port\n",
    "server = '172.21.134.175' \n",
    "database = 'VMinaDB' \n",
    "username = 'Relatorio' \n",
    "password = 'Relatorio' \n",
    "#cursor = cnxn.cursor()"
   ]
  },
  {
   "cell_type": "code",
   "execution_count": 2,
   "metadata": {},
   "outputs": [],
   "source": [
    "query1 = \"\"\"\n",
    "\n",
    "-- Query Despacho Ciclo\n",
    "Declare @dataIn datetime = '2021-01-12'\n",
    "Declare @dataFn datetime = '2021-01-12'\n",
    "\n",
    "Declare @idLocalidade int = 12\n",
    "Declare @idPeriodo int = 5\n",
    "\n",
    "select TH.IdLocalidade,TH.IdLocalidade as Localidade,TH.idTurnoOperacionalHistorico as idTurnoOperacionalHistorico,TH.turma,TH.Nome,TH.dataProducao as DataInicioTurno,TH.DataFim as DataTerminoTurno,\n",
    "       DataCiclo,CH.DataInicio,DataCheio,CH.DataFim,RegistradoBalanca,CargaApuracao,TempoMovendoVazio,TempoFilaCarga,TempoManobraCarga,TempoCarregamento,TempoMovendoCheio,TempoEsperaBasculo,\n",
    "       TempoBasculo,TempoCiclo,TempoOciosoEscavadeira,DistanciaPercorridaVazio,DistanciaPercorridaCheia,DistanciaPercorridaTotal,NomeEquipamentoTransporte,NomeOperadorTransporte,\n",
    "       NomeEquipamentoCarga,NomeOperadorCarga,LocalOrigem,LocalRegiaoOrigem,GpsXOrigem,GpsYOrigem,GpsZOrigem,\n",
    "       LocalDestino,LocalRegiaoDestino,GpsXBasculo,GpsYBasculo,GpsZBasculo,GradeMaterial,CargaManual,velocidadeMediaCheio,velocidadeMediaTotal,velocidadeMediaVazio,\n",
    "       PitOrigem,PitDestino,Material,CicloMaterialTipo,GPSXCaminhaoCarga,GPSYCaminhaoCarga,GPSXCarga,GPSYCarga,GPSXCaminhaoBasculo,GPSYCaminhaoBasculo,        \n",
    "       CH.idUnidadeOperacionalPontoControle, CH.UnidadeOperacionalPontoControle\n",
    "from [VminaDB].[mina].[CicloHistorico] CH\n",
    "left join [VminaDB].[mina].CicloHistoricoValidacao CV\n",
    "on CV.id = CH.id\n",
    "and CV.idTurnoOperacionalHistorico = CH.idTurnoOperacionalHistorico\n",
    "and CV.idLocalidade = CH.idLocalidade\n",
    "and CH.Ano = CH.Ano\n",
    "join [VminaDB].[mina].fnTurnoOperacionalHistorico(@idLocalidade,@idPeriodo,@dataIn,@dataFN,null,null) TH\n",
    "on TH.IdLocalidade = CH.idLocalidade\n",
    "and TH.IdTurnoOperacionalHistorico = CH.idTurnoOperacionalHistorico\n",
    "and TH.Ano = CH.Ano\n",
    "left join [VminaDB].[mina].EquipamentoHistorico ET\n",
    "on ET.IdEquipamento = CH.idEquipamentoHistoricoTransporte\n",
    "and ET.idTurnoOperacionalHistorico = CH.idTurnoOperacionalHistorico\n",
    "and CH.IdFabricanteSistemasDeMina = ET.IdFabricanteSistemasDeMina\n",
    "and CH.Ano = ET.Ano\n",
    "and ET.IdLocalidade = CH.idLocalidade\n",
    "left join [VminaDB].[mina].EquipamentoHistorico EC\n",
    "on EC.IdEquipamento = CH.idEquipamentoHistoricoCarga\n",
    "and EC.idTurnoOperacionalHistorico = CH.idTurnoOperacionalHistorico\n",
    "and CH.IdFabricanteSistemasDeMina = EC.IdFabricanteSistemasDeMina\n",
    "and CH.Ano = EC.Ano\n",
    "and EC.IdLocalidade = CH.idLocalidade\n",
    "WHERE\n",
    "  CH.idUnidadeOperacionalPontoControle in (13)\n",
    "\n",
    "\"\"\""
   ]
  },
  {
   "cell_type": "code",
   "execution_count": 5,
   "metadata": {},
   "outputs": [],
   "source": [
    "#Sample select query\n",
    "query2 = \"\"\"\n",
    "\n",
    "--Query Despacho Estado\n",
    "Declare @dataIn datetime = '2021-01-12'\n",
    "Declare @dataFn datetime = '2021-01-12'\n",
    "\n",
    "Declare @idLocalidade int = 12\n",
    "Declare @idPeriodo int = 5\n",
    "\n",
    "select TH.idLocalidade as idLocalidade,TH.IdLocalidade as Localidade,TH.idTurnoOperacionalHistorico as idTurnoOperacionalHistorico,TH.turma,TH.Nome,TH.dataProducao as DataInicioTurno,TH.DataFim as DataTerminoTurno,\n",
    "TAG as Equipamento,Razao,RazaoDescricao,RH.DataInicio,DataFinal,Duracao,\n",
    "RH.idEquipamentoEstado,EquipamentoEstado,CategoriaTempo,CategoriaTempoAbreviacao,Comentario,idOperador,\n",
    "NomeOperador,GpsX,GpsY,\n",
    "EH.idUnidadeOperacional, EH.UnidadeOperacional\n",
    "from [VminaDB].[mina].EquipamentoRazaoHistorico RH\n",
    "join [VminaDB].[mina].fnTurnoOperacionalHistorico(@idLocalidade,@idPeriodo,@dataIn,@dataFN,null,null) TH\n",
    "on TH.IdLocalidade = RH.idLocalidade\n",
    "and TH.IdTurnoOperacionalHistorico = RH.idTurnoOperacionalHistorico\n",
    "and TH.Ano = RH.Ano\n",
    "left join [VminaDB].[mina].EquipamentoHistorico EH\n",
    "on EH.IdEquipamento = RH.idEquipamentoHistorico\n",
    "and EH.idTurnoOperacionalHistorico = RH.idTurnoOperacionalHistorico\n",
    "and RH.IdFabricanteSistemasDeMina = EH.IdFabricanteSistemasDeMina\n",
    "and RH.Ano = EH.Ano\n",
    "and EH.IdLocalidade = RH.idLocalidade\n",
    "left join [VminaDB].[mina].Equipamento E on E.id = RH.idEquipamentoHistorico and RH.idLocalidade = E.IdLocalidade and E.IsEquipamentoTerceiro = 0\n",
    "left join [VminaDB].[mina].UnidadeOperacional UO on UO.Id = E.idUnidadeOperacional and UO.idLocalidade = E.IdLocalidade\n",
    "WHERE\n",
    " EH.idunidadeoperacional in (13)\n",
    "\n",
    "\"\"\""
   ]
  },
  {
   "cell_type": "code",
   "execution_count": 8,
   "metadata": {},
   "outputs": [],
   "source": [
    "#Sample select query\n",
    "query3 = \"\"\"\n",
    "\n",
    "--Query GPS\n",
    "Declare @dataIn datetime = '2021-01-12'\n",
    "Declare @dataFn datetime = '2021-01-12'\n",
    "\n",
    "Declare @idLocalidade int = 12\n",
    "Declare @idPeriodo int = 5\n",
    "\n",
    "select TH.idLocalidade as idLocalidade,TH.IdLocalidade as Localidade,TH.idTurnoOperacionalHistorico as idTurnoOperacionalHistorico,TH.turma,TH.Nome,TH.dataProducao as DataInicioTurno,TH.DataFim as DataTerminoTurno,\n",
    "       E.Nome as Name,\n",
    "       G.Data,\n",
    "       G.GpsX as [PositionX],\n",
    "       G.GpsY as [PositionY],\n",
    "       G.GpsZ AS [PositionZ],\n",
    "       E.idUnidadeOperacional,\n",
    "       E.UnidadeOperacional,\n",
    "       E.idTurnoOperacionalHistorico\n",
    "from [VminaDB].[mina].EquipamentoGPSHistorico G\n",
    "join [VminaDB].[mina].fnTurnoOperacionalHistorico(@idLocalidade,@idPeriodo,@dataIn,@dataFN,null,null) TH\n",
    "  on TH.IdLocalidade = G.idLocalidade\n",
    " and TH.IdTurnoOperacionalHistorico = G.idTurnoOperacionalHistorico\n",
    " and TH.Ano = G.Ano\n",
    "join [VminaDB].[mina].EquipamentoHistorico E\n",
    "  on E.IdEquipamento = G.idEquipamentoHistorico\n",
    " and E.IdLocalidade = G.idLocalidade\n",
    " and E.idTurnoOperacionalHistorico = G.idTurnoOperacionalHistorico\n",
    " and G.Ano = E.Ano\n",
    "WHERE\n",
    "E.idunidadeoperacional in (13)\n",
    "\n",
    "\"\"\""
   ]
  },
  {
   "cell_type": "code",
   "execution_count": 6,
   "metadata": {},
   "outputs": [],
   "source": [
    "query4 = \"\"\"\n",
    "\n",
    "--Query Telemetria\n",
    "Declare @dataIn datetime = '2021-01-12'\n",
    "Declare @dataFn datetime = '2021-01-12'\n",
    "\n",
    "Declare @idLocalidade int = 12\n",
    "Declare @idPeriodo int = 5\n",
    "\n",
    "SELECT TH.idLocalidade as idLocalidade,TH.IdLocalidade as Localidade,TH.idTurnoOperacionalHistorico as idTurnoOperacionalHistorico,TH.turma,TH.Nome,TH.dataProducao as DataInicioTurno,TH.DataFim as DataTerminoTurno,\n",
    "       EE.idTelemetria,\n",
    "       EE.FabricanteSistemasDeMina,\n",
    "       EE.Data,\n",
    "       EE.idEvento,\n",
    "       EE.evento,\n",
    "       EE.valor,\n",
    "       EE.TAG as Equipamento,\n",
    "       EE.EquipamentoFrota,\n",
    "\t   EE.EquipamentoEventoCriticidade as Criticidade,\n",
    "       EE.EquipamentoEventoTipo as TipoEvento,\n",
    "       EE.idOperador,\n",
    "       EE.operador, \n",
    "       EE.GPSX, \n",
    "       EE.GPSY,\n",
    "       EE.UnidadeOperacional,\n",
    "       EE.Interface,\n",
    "       EE.Oemid\n",
    " FROM [VminaDB].[mina].EquipamentoEventoHistorico EE\n",
    " join [VminaDB].[mina].fnTurnoOperacionalHistorico(@idLocalidade,@idPeriodo,@dataIn,@dataFN,null,null) TH\n",
    "   on TH.IdLocalidade = EE.idLocalidade and TH.IdTurnoOperacionalHistorico = EE.idTurnoOperacionalHistorico\n",
    "  and TH.Ano = EE.Ano\n",
    "WHERE EE.idUnidadeOperacional in (13) \n",
    "\n",
    "\"\"\""
   ]
  },
  {
   "cell_type": "code",
   "execution_count": 7,
   "metadata": {},
   "outputs": [],
   "source": [
    "query5 = \"\"\"\n",
    "\n",
    "--Query Dados Analogicos\n",
    "Declare @dataIn datetime = '2021-01-12'\n",
    "Declare @dataFn datetime = '2021-01-12'\n",
    "\n",
    "Declare @idLocalidade int = 12\n",
    "Declare @idPeriodo int = 5\n",
    "\n",
    "Select TH.idLocalidade as idLocalidade,TH.IdLocalidade as Localidade,TH.idTurnoOperacionalHistorico as idTurnoOperacionalHistorico,TH.turma,TH.Nome,TH.dataProducao as DataInicioTurno,TH.DataFim as DataTerminoTurno,  \n",
    "       E.idUnidadeOperacional,\n",
    "       E.UnidadeOperacional,\n",
    "       E.idTelemetria,\n",
    "       E.FabricanteSistemasDeMina,\n",
    "       E.Data,\n",
    "       E.idParametro,\n",
    "       E.Parametro,\n",
    "       E.Tendencia,\n",
    "       E.idOperador,\n",
    "       E.Operador,\n",
    "       E.ValorMinimo,\n",
    "       E.ValorMinimo,\n",
    "       E.ValorMedia,\n",
    "       E.ValorMediana,\n",
    "       E.Tag as equipamento,\n",
    "       E.EquipamentoFrota,\n",
    "       TH.idTurnoOperacionalHistorico as idTurnoOperacionalHistorico\n",
    " from [VminaDB].[Mina].[EquipamentoDadosAnalogicosHistorico] E\n",
    " join [VminaDB].[mina].fnTurnoOperacionalHistorico(@idLocalidade,@idPeriodo,@dataIn,@dataFN,null,null) TH\n",
    "   on TH.IdLocalidade = E.idLocalidade and TH.IdTurnoOperacionalHistorico = E.idTurnoOperacionalHistorico\n",
    "  and TH.Ano = E.Ano\n",
    "WHERE idUnidadeOperacional = 13\n",
    "\n",
    "\"\"\""
   ]
  },
  {
   "cell_type": "code",
   "execution_count": 9,
   "metadata": {},
   "outputs": [],
   "source": [
    "query6 = \"\"\"\n",
    "\n",
    "--Query Pneus\n",
    "Declare @dataIn datetime = '2021-01-12'\n",
    "Declare @dataFn datetime = '2021-01-12'\n",
    "\n",
    "Declare @idLocalidade int = 12\n",
    "Declare @idPeriodo int = 5\n",
    "\n",
    "SELECT TH.idLocalidade as idLocalidade,TH.IdLocalidade as Localidade,TH.idTurnoOperacionalHistorico as idTurnoOperacionalHistorico,TH.turma,TH.Nome,TH.dataProducao as DataInicioTurno,TH.DataFim as DataTerminoTurno,\n",
    "       ED.idUnidadeOperacional,\n",
    "       ED.UnidadeOperacional,\n",
    "       ED.idEquipamentoHistorico,\n",
    "       ED.FabricanteSistemasDeMina,\n",
    "       ED.idTelemetria,\n",
    "       ED.DataLeitura,\n",
    "       ED.DataUltimaLeitura,\n",
    "       ED.TAG,\n",
    "       ED.idEquipamentoFrota,\n",
    "       ED.EquipamentoFrota,\n",
    "       ED.Posicao,\n",
    "       ED.PressaoAtual,\n",
    "       ED.PressaoRecomendada,\n",
    "       ED.PressaoAlarmeAmareloMaximo,\n",
    "       ED.PressaoAlarmeAmareloMinimo,\n",
    "       ED.PressaoAlarmeVermelhoMaximo,\n",
    "       ED.PressaoAlarmeVermelhoMinimo,\n",
    "       ED.PressaoMaximaPadrao,\n",
    "       ED.PressaoMinimaPadrao,\n",
    "       ED.Ano, ED.Mes, ED.Dia\n",
    "       \n",
    "FROM [mina].EquipamentoDadosPneusHistorico ED\n",
    "join [VminaDB].[mina].fnTurnoOperacionalHistorico(@idLocalidade,@idPeriodo,@dataIn,@dataFN,null,null) TH\n",
    "  on TH.IdLocalidade = ED.idLocalidade and TH.IdTurnoOperacionalHistorico = ED.idTurnoOperacionalHistorico\n",
    " and TH.Ano = ED.Ano\n",
    " WHERE ED.idUnidadeOperacional = 13\n",
    "\n",
    "\n",
    "\"\"\""
   ]
  },
  {
   "cell_type": "code",
   "execution_count": 10,
   "metadata": {},
   "outputs": [],
   "source": [
    "path = r\"C:\\Users\\MarceloPereiraMarcoP\\Box\\Backup Desktop\\Integracao_Mina\\\\\"\n",
    "filename1 = \"Despacho_Ciclo+.csv\"\n",
    "filename2 = \"Despacho_Estado+.csv\"\n",
    "filename3 = \"GPS+.csv\"\n",
    "filename4 = \"Telemetria+.csv\"\n",
    "filename5 = \"Dados_Analogicos+.csv\"\n",
    "filename6 = \"Pneus+.csv\"\n"
   ]
  },
  {
   "cell_type": "code",
   "execution_count": 11,
   "metadata": {},
   "outputs": [],
   "source": [
    "extraction(server,database,username,password,query1,path,filename1)"
   ]
  },
  {
   "cell_type": "code",
   "execution_count": 12,
   "metadata": {},
   "outputs": [],
   "source": [
    "extraction(server,database,username,password,query2,path,filename2)"
   ]
  },
  {
   "cell_type": "code",
   "execution_count": 13,
   "metadata": {},
   "outputs": [],
   "source": [
    "extraction(server,database,username,password,query3,path,filename3)"
   ]
  },
  {
   "cell_type": "code",
   "execution_count": 14,
   "metadata": {},
   "outputs": [],
   "source": [
    "extraction(server,database,username,password,query4,path,filename4)"
   ]
  },
  {
   "cell_type": "code",
   "execution_count": 15,
   "metadata": {},
   "outputs": [],
   "source": [
    "extraction(server,database,username,password,query6,path,filename6)"
   ]
  },
  {
   "cell_type": "code",
   "execution_count": 16,
   "metadata": {},
   "outputs": [
    {
     "output_type": "error",
     "ename": "OperationalError",
     "evalue": "('08S01', '[08S01] [Microsoft][ODBC Driver 17 for SQL Server]Provedor TCP: Uma tentativa de conexão falhou porque o componente conectado não respondeu\\r\\ncorretamente após um período de tempo ou a conexão estabelecida falhou\\r\\nporque o host conectado não respondeu.\\r\\n (10060) (SQLGetData); [08S01] [Microsoft][ODBC Driver 17 for SQL Server]Falha de vínculo de comunicação (10060)')",
     "traceback": [
      "\u001b[1;31m---------------------------------------------------------------------------\u001b[0m",
      "\u001b[1;31mOperationalError\u001b[0m                          Traceback (most recent call last)",
      "\u001b[1;32m<ipython-input-16-7ea6b3eb07c5>\u001b[0m in \u001b[0;36m<module>\u001b[1;34m\u001b[0m\n\u001b[1;32m----> 1\u001b[1;33m \u001b[0mextraction\u001b[0m\u001b[1;33m(\u001b[0m\u001b[0mserver\u001b[0m\u001b[1;33m,\u001b[0m\u001b[0mdatabase\u001b[0m\u001b[1;33m,\u001b[0m\u001b[0musername\u001b[0m\u001b[1;33m,\u001b[0m\u001b[0mpassword\u001b[0m\u001b[1;33m,\u001b[0m\u001b[0mquery5\u001b[0m\u001b[1;33m,\u001b[0m\u001b[0mpath\u001b[0m\u001b[1;33m,\u001b[0m\u001b[0mfilename5\u001b[0m\u001b[1;33m)\u001b[0m\u001b[1;33m\u001b[0m\u001b[1;33m\u001b[0m\u001b[0m\n\u001b[0m",
      "\u001b[1;32m<ipython-input-1-23ae354e7cfe>\u001b[0m in \u001b[0;36mextraction\u001b[1;34m(server, database, username, password, query, path, filename)\u001b[0m\n\u001b[0;32m     11\u001b[0m                                                                          ';PWD='+ password)\n\u001b[0;32m     12\u001b[0m                \u001b[0mcursor\u001b[0m \u001b[1;33m=\u001b[0m \u001b[0mcnxn\u001b[0m\u001b[1;33m.\u001b[0m\u001b[0mcursor\u001b[0m\u001b[1;33m(\u001b[0m\u001b[1;33m)\u001b[0m\u001b[1;33m\u001b[0m\u001b[1;33m\u001b[0m\u001b[0m\n\u001b[1;32m---> 13\u001b[1;33m                \u001b[0mdf\u001b[0m \u001b[1;33m=\u001b[0m \u001b[0mpd\u001b[0m\u001b[1;33m.\u001b[0m\u001b[0mread_sql\u001b[0m\u001b[1;33m(\u001b[0m\u001b[0mquery\u001b[0m\u001b[1;33m,\u001b[0m \u001b[0mcon\u001b[0m \u001b[1;33m=\u001b[0m \u001b[0mcnxn\u001b[0m\u001b[1;33m)\u001b[0m\u001b[1;33m\u001b[0m\u001b[1;33m\u001b[0m\u001b[0m\n\u001b[0m\u001b[0;32m     14\u001b[0m                \u001b[0mdf\u001b[0m\u001b[1;33m.\u001b[0m\u001b[0mto_csv\u001b[0m\u001b[1;33m(\u001b[0m\u001b[0mpath\u001b[0m \u001b[1;33m+\u001b[0m \u001b[0mfilename\u001b[0m\u001b[1;33m)\u001b[0m\u001b[1;33m\u001b[0m\u001b[1;33m\u001b[0m\u001b[0m\n\u001b[0;32m     15\u001b[0m                \u001b[0mcnxn\u001b[0m\u001b[1;33m.\u001b[0m\u001b[0mclose\u001b[0m\u001b[1;33m(\u001b[0m\u001b[1;33m)\u001b[0m\u001b[1;33m\u001b[0m\u001b[1;33m\u001b[0m\u001b[0m\n",
      "\u001b[1;32m~\\anaconda3\\lib\\site-packages\\pandas\\io\\sql.py\u001b[0m in \u001b[0;36mread_sql\u001b[1;34m(sql, con, index_col, coerce_float, params, parse_dates, columns, chunksize)\u001b[0m\n\u001b[0;32m    487\u001b[0m             \u001b[0mcoerce_float\u001b[0m\u001b[1;33m=\u001b[0m\u001b[0mcoerce_float\u001b[0m\u001b[1;33m,\u001b[0m\u001b[1;33m\u001b[0m\u001b[1;33m\u001b[0m\u001b[0m\n\u001b[0;32m    488\u001b[0m             \u001b[0mparse_dates\u001b[0m\u001b[1;33m=\u001b[0m\u001b[0mparse_dates\u001b[0m\u001b[1;33m,\u001b[0m\u001b[1;33m\u001b[0m\u001b[1;33m\u001b[0m\u001b[0m\n\u001b[1;32m--> 489\u001b[1;33m             \u001b[0mchunksize\u001b[0m\u001b[1;33m=\u001b[0m\u001b[0mchunksize\u001b[0m\u001b[1;33m,\u001b[0m\u001b[1;33m\u001b[0m\u001b[1;33m\u001b[0m\u001b[0m\n\u001b[0m\u001b[0;32m    490\u001b[0m         )\n\u001b[0;32m    491\u001b[0m \u001b[1;33m\u001b[0m\u001b[0m\n",
      "\u001b[1;32m~\\anaconda3\\lib\\site-packages\\pandas\\io\\sql.py\u001b[0m in \u001b[0;36mread_query\u001b[1;34m(self, sql, index_col, coerce_float, params, parse_dates, chunksize)\u001b[0m\n\u001b[0;32m   1738\u001b[0m             )\n\u001b[0;32m   1739\u001b[0m         \u001b[1;32melse\u001b[0m\u001b[1;33m:\u001b[0m\u001b[1;33m\u001b[0m\u001b[1;33m\u001b[0m\u001b[0m\n\u001b[1;32m-> 1740\u001b[1;33m             \u001b[0mdata\u001b[0m \u001b[1;33m=\u001b[0m \u001b[0mself\u001b[0m\u001b[1;33m.\u001b[0m\u001b[0m_fetchall_as_list\u001b[0m\u001b[1;33m(\u001b[0m\u001b[0mcursor\u001b[0m\u001b[1;33m)\u001b[0m\u001b[1;33m\u001b[0m\u001b[1;33m\u001b[0m\u001b[0m\n\u001b[0m\u001b[0;32m   1741\u001b[0m             \u001b[0mcursor\u001b[0m\u001b[1;33m.\u001b[0m\u001b[0mclose\u001b[0m\u001b[1;33m(\u001b[0m\u001b[1;33m)\u001b[0m\u001b[1;33m\u001b[0m\u001b[1;33m\u001b[0m\u001b[0m\n\u001b[0;32m   1742\u001b[0m \u001b[1;33m\u001b[0m\u001b[0m\n",
      "\u001b[1;32m~\\anaconda3\\lib\\site-packages\\pandas\\io\\sql.py\u001b[0m in \u001b[0;36m_fetchall_as_list\u001b[1;34m(self, cur)\u001b[0m\n\u001b[0;32m   1751\u001b[0m \u001b[1;33m\u001b[0m\u001b[0m\n\u001b[0;32m   1752\u001b[0m     \u001b[1;32mdef\u001b[0m \u001b[0m_fetchall_as_list\u001b[0m\u001b[1;33m(\u001b[0m\u001b[0mself\u001b[0m\u001b[1;33m,\u001b[0m \u001b[0mcur\u001b[0m\u001b[1;33m)\u001b[0m\u001b[1;33m:\u001b[0m\u001b[1;33m\u001b[0m\u001b[1;33m\u001b[0m\u001b[0m\n\u001b[1;32m-> 1753\u001b[1;33m         \u001b[0mresult\u001b[0m \u001b[1;33m=\u001b[0m \u001b[0mcur\u001b[0m\u001b[1;33m.\u001b[0m\u001b[0mfetchall\u001b[0m\u001b[1;33m(\u001b[0m\u001b[1;33m)\u001b[0m\u001b[1;33m\u001b[0m\u001b[1;33m\u001b[0m\u001b[0m\n\u001b[0m\u001b[0;32m   1754\u001b[0m         \u001b[1;32mif\u001b[0m \u001b[1;32mnot\u001b[0m \u001b[0misinstance\u001b[0m\u001b[1;33m(\u001b[0m\u001b[0mresult\u001b[0m\u001b[1;33m,\u001b[0m \u001b[0mlist\u001b[0m\u001b[1;33m)\u001b[0m\u001b[1;33m:\u001b[0m\u001b[1;33m\u001b[0m\u001b[1;33m\u001b[0m\u001b[0m\n\u001b[0;32m   1755\u001b[0m             \u001b[0mresult\u001b[0m \u001b[1;33m=\u001b[0m \u001b[0mlist\u001b[0m\u001b[1;33m(\u001b[0m\u001b[0mresult\u001b[0m\u001b[1;33m)\u001b[0m\u001b[1;33m\u001b[0m\u001b[1;33m\u001b[0m\u001b[0m\n",
      "\u001b[1;31mOperationalError\u001b[0m: ('08S01', '[08S01] [Microsoft][ODBC Driver 17 for SQL Server]Provedor TCP: Uma tentativa de conexão falhou porque o componente conectado não respondeu\\r\\ncorretamente após um período de tempo ou a conexão estabelecida falhou\\r\\nporque o host conectado não respondeu.\\r\\n (10060) (SQLGetData); [08S01] [Microsoft][ODBC Driver 17 for SQL Server]Falha de vínculo de comunicação (10060)')"
     ]
    }
   ],
   "source": [
    "extraction(server,database,username,password,query5,path,filename5)"
   ]
  },
  {
   "cell_type": "code",
   "execution_count": null,
   "metadata": {},
   "outputs": [],
   "source": []
  }
 ]
}